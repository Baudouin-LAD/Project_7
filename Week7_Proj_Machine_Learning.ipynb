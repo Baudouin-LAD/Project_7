{
 "cells": [
  {
   "attachments": {},
   "cell_type": "markdown",
   "metadata": {},
   "source": [
    "## Library"
   ]
  },
  {
   "cell_type": "code",
   "execution_count": null,
   "metadata": {},
   "outputs": [],
   "source": [
    "import pandas as pd\n",
    "import numpy as np\n",
    "import sklearn"
   ]
  },
  {
   "attachments": {},
   "cell_type": "markdown",
   "metadata": {},
   "source": [
    "## Visualization"
   ]
  },
  {
   "cell_type": "code",
   "execution_count": null,
   "metadata": {},
   "outputs": [],
   "source": [
    "from sklearn.tree import plot_tree\n",
    "import sklearn.tree as tree\n",
    "from matplotlib import pyplot as plt\n",
    "import seaborn as sns\n",
    "import warnings\n",
    "warnings.filterwarnings('ignore')"
   ]
  },
  {
   "attachments": {},
   "cell_type": "markdown",
   "metadata": {},
   "source": [
    "## Models"
   ]
  },
  {
   "attachments": {},
   "cell_type": "markdown",
   "metadata": {},
   "source": [
    "from sklearn.preprocessing import OneHotEncoder\n",
    "from sklearn.model_selection import train_test_split\n",
    "\n",
    "from sklearn.tree import DecisionTreeRegressor, DecisionTreeClassifier\n",
    "from sklearn.preprocessing import PowerTransformer\n",
    "from sklearn.neighbors import KNeighborsClassifier\n",
    "\n",
    "from sklearn.linear_model import LogisticRegression, PassiveAggressiveClassifier\n",
    "\n",
    "from sklearn.naive_bayes import CategoricalNB\n",
    "from sklearn.discriminant_analysis import QuadraticDiscriminantAnalysis\n",
    "from sklearn.gaussian_process import GaussianProcessClassifier\n",
    "\n",
    "from sklearn.preprocessing import StandardScaler"
   ]
  },
  {
   "attachments": {},
   "cell_type": "markdown",
   "metadata": {},
   "source": [
    "## Evaluation"
   ]
  },
  {
   "cell_type": "code",
   "execution_count": null,
   "metadata": {},
   "outputs": [],
   "source": [
    "from sklearn.metrics import accuracy_score, precision_score, recall_score, confusion_matrix\n",
    "from sklearn.metrics import plot_confusion_matrix\n",
    "from sklearn.metrics import mean_absolute_error, mean_squared_error, r2_score\n",
    "from sklearn.metrics import roc_curve, auc\n",
    "import statsmodels.api as sm\n",
    "from sklearn.feature_selection import RFE\n"
   ]
  },
  {
   "attachments": {},
   "cell_type": "markdown",
   "metadata": {},
   "source": [
    "## Functions"
   ]
  },
  {
   "cell_type": "code",
   "execution_count": null,
   "metadata": {},
   "outputs": [],
   "source": [
    "def evaluate_classification_model(y_train, y_pred_train, y_test, y_pred_test):\n",
    "\n",
    "    performance_df = pd.DataFrame({'Error_metric': ['Accuracy','Precision','Recall'],\n",
    "                               'Train': [accuracy_score(y_train, y_pred_train),\n",
    "                                         precision_score(y_train, y_pred_train),\n",
    "                                         recall_score(y_train, y_pred_train)],\n",
    "                               'Test': [accuracy_score(y_test, y_pred_test),\n",
    "                                        precision_score(y_test, y_pred_test),\n",
    "                                        recall_score(y_test, y_pred_test)]})\n",
    "    \n",
    "    pd.options.display.float_format = '{:.2f}'.format\n",
    "\n",
    "    df_train = pd.DataFrame({'Real': y_train, 'Predicted': y_pred_train})\n",
    "    df_test  = pd.DataFrame({'Real': y_test,  'Predicted': y_pred_test})\n",
    "\n",
    "    return performance_df, df_train, df_test"
   ]
  },
  {
   "cell_type": "code",
   "execution_count": null,
   "metadata": {},
   "outputs": [],
   "source": [
    "def plot_correlation_heatmap(df):\n",
    "    # Compute the correlation matrix\n",
    "    corr = df.corr()\n",
    "\n",
    "    # Generate a mask for the upper triangle\n",
    "    mask = np.triu(np.ones_like(corr, dtype=bool))\n",
    "\n",
    "    # Set up the matplotlib figure\n",
    "    fig, ax = plt.subplots(figsize=(12, 8))\n",
    "\n",
    "    # Draw the heatmap with the mask and correct aspect ratio\n",
    "    sns.heatmap(corr, mask=mask, cmap='coolwarm', vmax=.8, center=0,\n",
    "                square=True, linewidths=.5, cbar_kws={\"shrink\": .5})\n",
    "\n",
    "    plt.title('Correlation Heatmap')\n",
    "    plt.show()"
   ]
  },
  {
   "cell_type": "code",
   "execution_count": null,
   "metadata": {},
   "outputs": [],
   "source": [
    "def clean_data(df):\n",
    "    # Check for missing values\n",
    "    print(df.isnull().sum())\n",
    "\n",
    "    # Check for duplicates\n",
    "    print(df.duplicated().sum())\n",
    "\n",
    "    # Drop duplicates\n",
    "    df.drop_duplicates(inplace=True)\n",
    "\n",
    "    # Impute missing values\n",
    "    # df.fillna(df.median(), inplace=True)\n",
    "\n",
    "    # Remove outliers\n",
    "    # Q1 = df.quantile(0.25)\n",
    "    # Q3 = df.quantile(0.75)\n",
    "    # IQR = Q3 - Q1\n",
    "    # df = df[~((df < (Q1 - 1.5 * IQR)) | (df > (Q3 + 1.5 * IQR))).any(axis=1)]\n",
    "    return df"
   ]
  },
  {
   "cell_type": "code",
   "execution_count": null,
   "metadata": {},
   "outputs": [],
   "source": [
    "def get_numerical_features(df):\n",
    "    \"\"\"\n",
    "    Returns a DataFrame containing only the numerical features of the input DataFrame.\n",
    "    \"\"\"\n",
    "    print(df.select_dtypes(include=[float, int]).columns)\n",
    "    return df.select_dtypes(include=[float, int])"
   ]
  },
  {
   "cell_type": "code",
   "execution_count": null,
   "metadata": {},
   "outputs": [],
   "source": [
    "def select_features(df, feature_list):\n",
    "    \"\"\"\n",
    "    Returns a DataFrame containing only the selected features from the input DataFrame.\n",
    "    \"\"\"\n",
    "    return df[feature_list]"
   ]
  },
  {
   "cell_type": "code",
   "execution_count": null,
   "metadata": {},
   "outputs": [],
   "source": [
    "def split_X_y(df, target_col):\n",
    "    # Split dataframe into X and y\n",
    "    X = df.drop(target_col, axis=1)\n",
    "    y = df[target_col]\n",
    "\n",
    "    return X, y"
   ]
  },
  {
   "cell_type": "code",
   "execution_count": null,
   "metadata": {},
   "outputs": [],
   "source": [
    "def split_data(X, y, test_size=0.2, random_state=42):\n",
    "\n",
    "    X_train, X_test, y_train, y_test = train_test_split(X, y, test_size=test_size, random_state=random_state)\n",
    "    \n",
    "    return X_train, X_test, y_train, y_test"
   ]
  },
  {
   "cell_type": "code",
   "execution_count": null,
   "metadata": {},
   "outputs": [],
   "source": [
    "def plot_feature_importances(model, X_train):\n",
    "    # Get absolute value of coefficients\n",
    "    coefs = np.abs(model.coef_)\n",
    "    \n",
    "    # Normalize coefficients\n",
    "    coefs /= np.sum(coefs)\n",
    "    \n",
    "    # Sort coefficients by importance\n",
    "    sorted_idx = np.argsort(coefs)\n",
    "    \n",
    "    # Get feature names\n",
    "    feature_names = X_train.columns.values\n",
    "    \n",
    "    plt.figure(figsize=(8, 5))\n",
    "    # Plot horizontal bar chart of feature importances\n",
    "    plt.barh(range(len(sorted_idx)), coefs[sorted_idx], align='center')\n",
    "    plt.yticks(range(len(sorted_idx)), feature_names[sorted_idx])\n",
    "    # set the tick label font size and other parameters\n",
    "    plt.tick_params(axis='both', which='major', labelsize=6, length=6, width=2, direction='out', pad=8)\n",
    "\n",
    "    plt.xlabel('Normalized Feature Importance')\n",
    "    plt.ylabel('Feature')\n",
    "    plt.title('Feature Importances')\n",
    "    plt.show()"
   ]
  },
  {
   "cell_type": "code",
   "execution_count": null,
   "metadata": {},
   "outputs": [],
   "source": [
    "def scale_features(X_train, X_test):\n",
    "    scaler = StandardScaler()\n",
    "    X_train_scaled = scaler.fit_transform(X_train)\n",
    "    X_train_scaled =pd.DataFrame(X_train_scaled, columns=X_train.columns)\n",
    "    \n",
    "    X_test_scaled = scaler.transform(X_test)\n",
    "    X_test_scaled=pd.DataFrame(X_test_scaled, columns=X_test.columns)\n",
    "    \n",
    "    return X_train_scaled, X_test_scaled"
   ]
  },
  {
   "cell_type": "code",
   "execution_count": null,
   "metadata": {},
   "outputs": [],
   "source": [
    "# Encode categorical variables\n",
    "\n",
    "def encode_categorical_cols(df):\n",
    "    # Identify categorical variables\n",
    "    categorical_cols = df.select_dtypes(include=['object']).columns.tolist()\n",
    "    print(\"Categorical Variables:\", categorical_cols)\n",
    "    \n",
    "    # Apply one-hot encoding\n",
    "    encoder = OneHotEncoder(sparse=False, handle_unknown='ignore')\n",
    "    X_encoded = encoder.fit_transform(df[categorical_cols])\n",
    "    #print(X_encoded)\n",
    "    # Convert encoded features to a Pandas dataframe\n",
    "    X_encoded_df = pd.DataFrame(X_encoded, columns=encoder.get_feature_names(categorical_cols),index=df.index)\n",
    "\n",
    "    # Drop original categorical columns and merge with encoded features\n",
    "    df_encoded=df.drop(categorical_cols, axis=1)\n",
    "    df_encoded = pd.concat([df_encoded, X_encoded_df], axis=1)\n",
    "    return df_encoded"
   ]
  },
  {
   "cell_type": "code",
   "execution_count": null,
   "metadata": {},
   "outputs": [],
   "source": [
    "\n",
    "# # Feature selection with RFE\n",
    "# model=LinearRegression()\n",
    "# rfe = RFE(model, n_features_to_select=5)\n",
    "# rfe.fit(X_train, y_train)\n",
    "\n",
    "# # Print the selected features and their ranking\n",
    "# print(\"Selected Features:\")\n",
    "# for i in range(len(rfe.support_)):\n",
    "#     if rfe.support_[i]:\n",
    "#         print(X.columns[i])\n",
    "        \n",
    "# print(\"Feature Ranking:\")\n",
    "# print(rfe.ranking_)"
   ]
  },
  {
   "cell_type": "code",
   "execution_count": null,
   "metadata": {},
   "outputs": [],
   "source": [
    "def feature_selection_pvalue_train(X_train, y_train, cols):\n",
    "    # Fit the OLS model\n",
    "    \n",
    "    X_train = sm.add_constant(X_train)\n",
    "    model = sm.OLS(y_train, X_train).fit()\n",
    "\n",
    "    ## report model summary\n",
    "    print(model.summary())\n",
    "    \n",
    "    # Get the p-values\n",
    "    pvalues = model.pvalues[1:]\n",
    "\n",
    "    print(pvalues.index)\n",
    "    # Combine the p-values with the column names\n",
    "    pvalues_df = pd.DataFrame({'feature': pvalues.index, 'pvalue': pvalues})\n",
    "\n",
    "    # Filter out the columns with p-value > 0.05\n",
    "    selected_features = list(pvalues_df[pvalues_df['pvalue'] < 0.05]['feature'])\n",
    "\n",
    "    return selected_features\n"
   ]
  },
  {
   "attachments": {},
   "cell_type": "markdown",
   "metadata": {},
   "source": [
    "## Data Processing"
   ]
  },
  {
   "cell_type": "markdown",
   "metadata": {},
   "source": []
  }
 ],
 "metadata": {
  "kernelspec": {
   "display_name": "Python 3",
   "language": "python",
   "name": "python3"
  },
  "language_info": {
   "name": "python",
   "version": "3.10.4 (main, Oct  6 2022, 11:26:29) [Clang 12.0.0 (clang-1200.0.32.29)]"
  },
  "orig_nbformat": 4,
  "vscode": {
   "interpreter": {
    "hash": "096d13a557f1eefbcff4e46a0332d49d83cfff748d823998326338428f68fa0f"
   }
  }
 },
 "nbformat": 4,
 "nbformat_minor": 2
}
